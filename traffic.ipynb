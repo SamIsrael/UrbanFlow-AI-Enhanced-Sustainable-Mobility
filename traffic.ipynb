{
 "cells": [
  {
   "cell_type": "markdown",
   "id": "dc548099-0934-4d77-bd55-7ab70ec0b8fa",
   "metadata": {},
   "source": [
    "# Simulated Traffic Data Generation and Route Suggestion Model\n",
    "            This Jupyter Notebook presents code for the generation of a simulated dataset containing user and traffic data. The dataset includes user IDs, timestamps, current locations, destinations, traffic parameters, alternate routes, and estimated times and distances. Additionally, it demonstrates the creation of a machine learning model for route suggestion based on traffic conditions. The model is trained and evaluated, and a real-time route suggestion is provided."
   ]
  },
  {
   "cell_type": "markdown",
   "id": "8ef50f0f-de9f-4f84-9be9-852c7225c8b7",
   "metadata": {},
   "source": [
    "### Simulated Dataset Creation\n",
    "\n",
    " In this section, we create a simulated dataset with user and traffic data. The dataset includes various features such as user IDs, timestamps, current locations, destination, traffic speed, traffic congestion, alternate routes, estimated times, and estimated distances. We generate 1000 entries with random data for demonstration purposes."
   ]
  },
  {
   "cell_type": "markdown",
   "id": "9d9bcb5e-8038-4cb7-96dc-06791e26c66b",
   "metadata": {},
   "source": [
    "##### Importing Libraries"
   ]
  },
  {
   "cell_type": "code",
   "execution_count": 41,
   "id": "529cb24c-2d28-4864-81e4-6c720c4c491a",
   "metadata": {},
   "outputs": [],
   "source": [
    "import random\n",
    "import pandas as pd\n",
    "import datetime\n",
    "from sklearn.model_selection import train_test_split\n",
    "from sklearn.tree import DecisionTreeClassifier\n",
    "from sklearn.linear_model import LinearRegression\n",
    "from sklearn.preprocessing import LabelEncoder"
   ]
  },
  {
   "cell_type": "markdown",
   "id": "e579241b-cf7f-4b12-b5ad-7cdb86075641",
   "metadata": {},
   "source": [
    "##### Simulating a dataset with user and traffic data\n",
    "###### Initializing empty lists to store data"
   ]
  },
  {
   "cell_type": "code",
   "execution_count": 19,
   "id": "215b7bc4-70f0-450b-9491-1b39ebb4d6cf",
   "metadata": {},
   "outputs": [],
   "source": [
    "user_ids = []\n",
    "timestamps = []\n",
    "current_locations = []\n",
    "destinations = []\n",
    "traffic_speeds = []\n",
    "traffic_congestions = []\n",
    "alternate_routes = []\n",
    "estimated_times = []\n",
    "estimated_distances = []"
   ]
  },
  {
   "cell_type": "markdown",
   "id": "012205bc-24ff-4765-83e8-13ad7472c480",
   "metadata": {},
   "source": [
    "###### Simulating 1000 entries"
   ]
  },
  {
   "cell_type": "code",
   "execution_count": 23,
   "id": "028364ca-f5f9-4a63-a387-7367756bed72",
   "metadata": {},
   "outputs": [],
   "source": [
    "for _ in range(1000):\n",
    "    user_id = random.randint(1, 100)\n",
    "    timestamp = datetime.datetime(2023, 10, 25, random.randint(0, 23), random.randint(0, 59))\n",
    "    current_location = (random.uniform(40.6, 40.8), random.uniform(-74.1, -73.9))\n",
    "    destination = (random.uniform(40.6, 40.8), random.uniform(-74.1, -73.9))\n",
    "    traffic_speed = random.randint(10, 60)\n",
    "    traffic_congestion = random.uniform(0, 1)\n",
    "\n",
    "    # Simulate a random alternate route with a few coordinates\n",
    "    \n",
    "    num_alternate_route_points = random.randint(2, 10)\n",
    "    alternate_route = [(random.uniform(40.6, 40.8), random.uniform(-74.1, -73.9)) for _ in range(num_alternate_route_points)]\n",
    "\n",
    "    estimated_time = random.randint(10, 60)\n",
    "    estimated_distance = random.uniform(2, 10)\n",
    "\n",
    "    user_ids.append(user_id)\n",
    "    timestamps.append(timestamp)\n",
    "    current_locations.append(current_location)\n",
    "    destinations.append(destination)\n",
    "    traffic_speeds.append(traffic_speed)\n",
    "    traffic_congestions.append(traffic_congestion)\n",
    "    alternate_routes.append(alternate_route)\n",
    "    estimated_times.append(estimated_time)\n",
    "    estimated_distances.append(estimated_distance)"
   ]
  },
  {
   "cell_type": "markdown",
   "id": "ed9815b1-c40d-45a7-9700-1a23e968e02e",
   "metadata": {},
   "source": [
    "##### Creating a DataFrame with the simulated data"
   ]
  },
  {
   "cell_type": "code",
   "execution_count": 24,
   "id": "12415c07-c22e-4cea-9385-99364cabccab",
   "metadata": {},
   "outputs": [],
   "source": [
    "data = pd.DataFrame({\n",
    "    'User_ID': user_ids,\n",
    "    'Timestamp': timestamps,\n",
    "    'Current_Location': current_locations,\n",
    "    'Destination': destinations,\n",
    "    'Traffic_Speed': traffic_speeds,\n",
    "    'Traffic_Congestion': traffic_congestions,\n",
    "    'Alternate_Route': alternate_routes,\n",
    "    'Estimated_Time_Alternate': estimated_times,\n",
    "    'Estimated_Distance_Alternate': estimated_distances\n",
    "})"
   ]
  },
  {
   "cell_type": "markdown",
   "id": "2f23d0bf-a05a-4c94-9919-e34c476ea193",
   "metadata": {},
   "source": [
    "##### Displaying the simulated data"
   ]
  },
  {
   "cell_type": "code",
   "execution_count": 25,
   "id": "9afb06fb-b069-4f82-82ef-a57c985fc57b",
   "metadata": {},
   "outputs": [
    {
     "data": {
      "text/html": [
       "<div>\n",
       "<style scoped>\n",
       "    .dataframe tbody tr th:only-of-type {\n",
       "        vertical-align: middle;\n",
       "    }\n",
       "\n",
       "    .dataframe tbody tr th {\n",
       "        vertical-align: top;\n",
       "    }\n",
       "\n",
       "    .dataframe thead th {\n",
       "        text-align: right;\n",
       "    }\n",
       "</style>\n",
       "<table border=\"1\" class=\"dataframe\">\n",
       "  <thead>\n",
       "    <tr style=\"text-align: right;\">\n",
       "      <th></th>\n",
       "      <th>User_ID</th>\n",
       "      <th>Timestamp</th>\n",
       "      <th>Current_Location</th>\n",
       "      <th>Destination</th>\n",
       "      <th>Traffic_Speed</th>\n",
       "      <th>Traffic_Congestion</th>\n",
       "      <th>Alternate_Route</th>\n",
       "      <th>Estimated_Time_Alternate</th>\n",
       "      <th>Estimated_Distance_Alternate</th>\n",
       "    </tr>\n",
       "  </thead>\n",
       "  <tbody>\n",
       "    <tr>\n",
       "      <th>0</th>\n",
       "      <td>40</td>\n",
       "      <td>2023-10-25 18:34:00</td>\n",
       "      <td>(40.731946762364, -73.97689108595226)</td>\n",
       "      <td>(40.65202465495198, -73.99705913358297)</td>\n",
       "      <td>29</td>\n",
       "      <td>0.150436</td>\n",
       "      <td>[(40.75264623900403, -74.04194228967836), (40....</td>\n",
       "      <td>35</td>\n",
       "      <td>7.354829</td>\n",
       "    </tr>\n",
       "    <tr>\n",
       "      <th>1</th>\n",
       "      <td>46</td>\n",
       "      <td>2023-10-25 14:21:00</td>\n",
       "      <td>(40.787256677981254, -74.04123601177999)</td>\n",
       "      <td>(40.66387859192334, -73.98899876851507)</td>\n",
       "      <td>21</td>\n",
       "      <td>0.403945</td>\n",
       "      <td>[(40.688941841590676, -74.00870877368276), (40...</td>\n",
       "      <td>37</td>\n",
       "      <td>9.584325</td>\n",
       "    </tr>\n",
       "    <tr>\n",
       "      <th>2</th>\n",
       "      <td>67</td>\n",
       "      <td>2023-10-25 00:26:00</td>\n",
       "      <td>(40.658331198652526, -73.99842534605598)</td>\n",
       "      <td>(40.686967622122104, -74.05332562171306)</td>\n",
       "      <td>27</td>\n",
       "      <td>0.735543</td>\n",
       "      <td>[(40.66159176560929, -73.97624275690423), (40....</td>\n",
       "      <td>34</td>\n",
       "      <td>5.223922</td>\n",
       "    </tr>\n",
       "    <tr>\n",
       "      <th>3</th>\n",
       "      <td>22</td>\n",
       "      <td>2023-10-25 19:08:00</td>\n",
       "      <td>(40.67443162160435, -74.06538855248644)</td>\n",
       "      <td>(40.70683640200687, -73.90830743674526)</td>\n",
       "      <td>55</td>\n",
       "      <td>0.586689</td>\n",
       "      <td>[(40.783945544999014, -73.97395921062886), (40...</td>\n",
       "      <td>23</td>\n",
       "      <td>5.528615</td>\n",
       "    </tr>\n",
       "    <tr>\n",
       "      <th>4</th>\n",
       "      <td>69</td>\n",
       "      <td>2023-10-25 17:15:00</td>\n",
       "      <td>(40.68286579638996, -73.99399431938936)</td>\n",
       "      <td>(40.69859986732159, -74.06742181456444)</td>\n",
       "      <td>43</td>\n",
       "      <td>0.306856</td>\n",
       "      <td>[(40.74300268649984, -74.09193735215302), (40....</td>\n",
       "      <td>12</td>\n",
       "      <td>5.335785</td>\n",
       "    </tr>\n",
       "  </tbody>\n",
       "</table>\n",
       "</div>"
      ],
      "text/plain": [
       "   User_ID           Timestamp                          Current_Location  \\\n",
       "0       40 2023-10-25 18:34:00     (40.731946762364, -73.97689108595226)   \n",
       "1       46 2023-10-25 14:21:00  (40.787256677981254, -74.04123601177999)   \n",
       "2       67 2023-10-25 00:26:00  (40.658331198652526, -73.99842534605598)   \n",
       "3       22 2023-10-25 19:08:00   (40.67443162160435, -74.06538855248644)   \n",
       "4       69 2023-10-25 17:15:00   (40.68286579638996, -73.99399431938936)   \n",
       "\n",
       "                                Destination  Traffic_Speed  \\\n",
       "0   (40.65202465495198, -73.99705913358297)             29   \n",
       "1   (40.66387859192334, -73.98899876851507)             21   \n",
       "2  (40.686967622122104, -74.05332562171306)             27   \n",
       "3   (40.70683640200687, -73.90830743674526)             55   \n",
       "4   (40.69859986732159, -74.06742181456444)             43   \n",
       "\n",
       "   Traffic_Congestion                                    Alternate_Route  \\\n",
       "0            0.150436  [(40.75264623900403, -74.04194228967836), (40....   \n",
       "1            0.403945  [(40.688941841590676, -74.00870877368276), (40...   \n",
       "2            0.735543  [(40.66159176560929, -73.97624275690423), (40....   \n",
       "3            0.586689  [(40.783945544999014, -73.97395921062886), (40...   \n",
       "4            0.306856  [(40.74300268649984, -74.09193735215302), (40....   \n",
       "\n",
       "   Estimated_Time_Alternate  Estimated_Distance_Alternate  \n",
       "0                        35                      7.354829  \n",
       "1                        37                      9.584325  \n",
       "2                        34                      5.223922  \n",
       "3                        23                      5.528615  \n",
       "4                        12                      5.335785  "
      ]
     },
     "execution_count": 25,
     "metadata": {},
     "output_type": "execute_result"
    }
   ],
   "source": [
    "data.head()"
   ]
  },
  {
   "cell_type": "markdown",
   "id": "78d2ff0e-cbd3-4b42-a148-c8d7ee84baa0",
   "metadata": {},
   "source": [
    "### Model Training and Prediction\n",
    "\n",
    "In this section, we define the features (independent variables) and the target (dependent variable) for our model. We split the dataset into training and testing sets and create a Decision Tree Classifier to make predictions. We evaluate the model's accuracy and demonstrate how to use the trained model to make route suggestions for new data.\n"
   ]
  },
  {
   "cell_type": "markdown",
   "id": "de55f3f9-5452-4dbf-b0d5-1659ca7feb61",
   "metadata": {},
   "source": [
    "##### Adding a new field 'Route_Suggestion'"
   ]
  },
  {
   "cell_type": "code",
   "execution_count": 58,
   "id": "cc03b367-d8f3-4c6c-91e6-6392e9d2c448",
   "metadata": {},
   "outputs": [
    {
     "data": {
      "text/html": [
       "<div>\n",
       "<style scoped>\n",
       "    .dataframe tbody tr th:only-of-type {\n",
       "        vertical-align: middle;\n",
       "    }\n",
       "\n",
       "    .dataframe tbody tr th {\n",
       "        vertical-align: top;\n",
       "    }\n",
       "\n",
       "    .dataframe thead th {\n",
       "        text-align: right;\n",
       "    }\n",
       "</style>\n",
       "<table border=\"1\" class=\"dataframe\">\n",
       "  <thead>\n",
       "    <tr style=\"text-align: right;\">\n",
       "      <th></th>\n",
       "      <th>User_ID</th>\n",
       "      <th>Timestamp</th>\n",
       "      <th>Current_Location</th>\n",
       "      <th>Destination</th>\n",
       "      <th>Traffic_Speed</th>\n",
       "      <th>Traffic_Congestion</th>\n",
       "      <th>Alternate_Route</th>\n",
       "      <th>Estimated_Time_Alternate</th>\n",
       "      <th>Estimated_Distance_Alternate</th>\n",
       "      <th>Route_Suggestion</th>\n",
       "    </tr>\n",
       "  </thead>\n",
       "  <tbody>\n",
       "    <tr>\n",
       "      <th>0</th>\n",
       "      <td>40</td>\n",
       "      <td>2023-10-25 18:34:00</td>\n",
       "      <td>(40.731946762364, -73.97689108595226)</td>\n",
       "      <td>(40.65202465495198, -73.99705913358297)</td>\n",
       "      <td>29</td>\n",
       "      <td>0.150436</td>\n",
       "      <td>[(40.75264623900403, -74.04194228967836), (40....</td>\n",
       "      <td>35</td>\n",
       "      <td>7.354829</td>\n",
       "      <td>No need for an alternate route</td>\n",
       "    </tr>\n",
       "    <tr>\n",
       "      <th>1</th>\n",
       "      <td>46</td>\n",
       "      <td>2023-10-25 14:21:00</td>\n",
       "      <td>(40.787256677981254, -74.04123601177999)</td>\n",
       "      <td>(40.66387859192334, -73.98899876851507)</td>\n",
       "      <td>21</td>\n",
       "      <td>0.403945</td>\n",
       "      <td>[(40.688941841590676, -74.00870877368276), (40...</td>\n",
       "      <td>37</td>\n",
       "      <td>9.584325</td>\n",
       "      <td>No need for an alternate route</td>\n",
       "    </tr>\n",
       "    <tr>\n",
       "      <th>2</th>\n",
       "      <td>67</td>\n",
       "      <td>2023-10-25 00:26:00</td>\n",
       "      <td>(40.658331198652526, -73.99842534605598)</td>\n",
       "      <td>(40.686967622122104, -74.05332562171306)</td>\n",
       "      <td>27</td>\n",
       "      <td>0.735543</td>\n",
       "      <td>[(40.66159176560929, -73.97624275690423), (40....</td>\n",
       "      <td>34</td>\n",
       "      <td>5.223922</td>\n",
       "      <td>Use alternate route</td>\n",
       "    </tr>\n",
       "    <tr>\n",
       "      <th>3</th>\n",
       "      <td>22</td>\n",
       "      <td>2023-10-25 19:08:00</td>\n",
       "      <td>(40.67443162160435, -74.06538855248644)</td>\n",
       "      <td>(40.70683640200687, -73.90830743674526)</td>\n",
       "      <td>55</td>\n",
       "      <td>0.586689</td>\n",
       "      <td>[(40.783945544999014, -73.97395921062886), (40...</td>\n",
       "      <td>23</td>\n",
       "      <td>5.528615</td>\n",
       "      <td>Use alternate route</td>\n",
       "    </tr>\n",
       "    <tr>\n",
       "      <th>4</th>\n",
       "      <td>69</td>\n",
       "      <td>2023-10-25 17:15:00</td>\n",
       "      <td>(40.68286579638996, -73.99399431938936)</td>\n",
       "      <td>(40.69859986732159, -74.06742181456444)</td>\n",
       "      <td>43</td>\n",
       "      <td>0.306856</td>\n",
       "      <td>[(40.74300268649984, -74.09193735215302), (40....</td>\n",
       "      <td>12</td>\n",
       "      <td>5.335785</td>\n",
       "      <td>No need for an alternate route</td>\n",
       "    </tr>\n",
       "  </tbody>\n",
       "</table>\n",
       "</div>"
      ],
      "text/plain": [
       "   User_ID           Timestamp                          Current_Location  \\\n",
       "0       40 2023-10-25 18:34:00     (40.731946762364, -73.97689108595226)   \n",
       "1       46 2023-10-25 14:21:00  (40.787256677981254, -74.04123601177999)   \n",
       "2       67 2023-10-25 00:26:00  (40.658331198652526, -73.99842534605598)   \n",
       "3       22 2023-10-25 19:08:00   (40.67443162160435, -74.06538855248644)   \n",
       "4       69 2023-10-25 17:15:00   (40.68286579638996, -73.99399431938936)   \n",
       "\n",
       "                                Destination  Traffic_Speed  \\\n",
       "0   (40.65202465495198, -73.99705913358297)             29   \n",
       "1   (40.66387859192334, -73.98899876851507)             21   \n",
       "2  (40.686967622122104, -74.05332562171306)             27   \n",
       "3   (40.70683640200687, -73.90830743674526)             55   \n",
       "4   (40.69859986732159, -74.06742181456444)             43   \n",
       "\n",
       "   Traffic_Congestion                                    Alternate_Route  \\\n",
       "0            0.150436  [(40.75264623900403, -74.04194228967836), (40....   \n",
       "1            0.403945  [(40.688941841590676, -74.00870877368276), (40...   \n",
       "2            0.735543  [(40.66159176560929, -73.97624275690423), (40....   \n",
       "3            0.586689  [(40.783945544999014, -73.97395921062886), (40...   \n",
       "4            0.306856  [(40.74300268649984, -74.09193735215302), (40....   \n",
       "\n",
       "   Estimated_Time_Alternate  Estimated_Distance_Alternate  \\\n",
       "0                        35                      7.354829   \n",
       "1                        37                      9.584325   \n",
       "2                        34                      5.223922   \n",
       "3                        23                      5.528615   \n",
       "4                        12                      5.335785   \n",
       "\n",
       "                 Route_Suggestion  \n",
       "0  No need for an alternate route  \n",
       "1  No need for an alternate route  \n",
       "2             Use alternate route  \n",
       "3             Use alternate route  \n",
       "4  No need for an alternate route  "
      ]
     },
     "execution_count": 58,
     "metadata": {},
     "output_type": "execute_result"
    }
   ],
   "source": [
    "def suggest_alternate_route(row):\n",
    "    if row['Traffic_Congestion'] > 0.5:  # Adjust the congestion threshold as needed\n",
    "        return \"Use alternate route\"\n",
    "    else:\n",
    "        return \"No need for an alternate route\"\n",
    "\n",
    "\n",
    "data['Route_Suggestion'] = data.apply(suggest_alternate_route, axis=1)\n",
    "\n",
    "data.head()"
   ]
  },
  {
   "cell_type": "markdown",
   "id": "84e9a5a4-43cb-41d9-8b08-d1918471d2b5",
   "metadata": {},
   "source": [
    "##### Label Encoding"
   ]
  },
  {
   "cell_type": "code",
   "execution_count": 47,
   "id": "86f33029-2a62-48ff-a8a7-4ed0f865b516",
   "metadata": {},
   "outputs": [],
   "source": [
    "route_suggestion = data['Route_Suggestion']\n",
    "le = LabelEncoder()\n",
    "route_target = le.fit_transform(route_suggestion)"
   ]
  },
  {
   "cell_type": "markdown",
   "id": "9c356599-9e15-42a3-9844-97be66e106d9",
   "metadata": {},
   "source": [
    "##### Define the features (independent variables) and the target (dependent variable)"
   ]
  },
  {
   "cell_type": "code",
   "execution_count": 48,
   "id": "7b4c685d-230f-449d-add2-1edb104fbcbc",
   "metadata": {},
   "outputs": [],
   "source": [
    "features = data[['Traffic_Speed', 'Traffic_Congestion']]\n",
    "time_target = data['Estimated_Time_Alternate']\n",
    "distance_target = data['Estimated_Distance_Alternate']\n",
    "route_target = le.fit_transform(route_suggestion)"
   ]
  },
  {
   "cell_type": "markdown",
   "id": "48bd7554-1207-4d26-a8b7-2fd6a624c0a3",
   "metadata": {},
   "source": [
    "##### Split the dataset into training and testing sets"
   ]
  },
  {
   "cell_type": "code",
   "execution_count": 49,
   "id": "f54f34d4-f58c-4a42-bb14-898c6f17098e",
   "metadata": {},
   "outputs": [],
   "source": [
    "X_train, X_test, y_train_route, y_test_route = train_test_split(features, route_target, test_size=0.2, random_state=42)\n",
    "X_train, X_test, y_train_time, y_test_time = train_test_split(features, time_target, test_size=0.2, random_state=42)\n",
    "X_train, X_test, y_train_distance, y_test_distance = train_test_split(features, distance_target, test_size=0.2, random_state=42)"
   ]
  },
  {
   "cell_type": "markdown",
   "id": "51c0de3d-5435-4a26-a82e-ae8944a02d54",
   "metadata": {},
   "source": [
    "##### Create and train the dataset using Linear Regression"
   ]
  },
  {
   "cell_type": "code",
   "execution_count": 50,
   "id": "536d6e6d-5f93-4c02-b242-6fcf84dcd7e7",
   "metadata": {},
   "outputs": [
    {
     "data": {
      "text/html": [
       "<style>#sk-container-id-3 {color: black;background-color: white;}#sk-container-id-3 pre{padding: 0;}#sk-container-id-3 div.sk-toggleable {background-color: white;}#sk-container-id-3 label.sk-toggleable__label {cursor: pointer;display: block;width: 100%;margin-bottom: 0;padding: 0.3em;box-sizing: border-box;text-align: center;}#sk-container-id-3 label.sk-toggleable__label-arrow:before {content: \"▸\";float: left;margin-right: 0.25em;color: #696969;}#sk-container-id-3 label.sk-toggleable__label-arrow:hover:before {color: black;}#sk-container-id-3 div.sk-estimator:hover label.sk-toggleable__label-arrow:before {color: black;}#sk-container-id-3 div.sk-toggleable__content {max-height: 0;max-width: 0;overflow: hidden;text-align: left;background-color: #f0f8ff;}#sk-container-id-3 div.sk-toggleable__content pre {margin: 0.2em;color: black;border-radius: 0.25em;background-color: #f0f8ff;}#sk-container-id-3 input.sk-toggleable__control:checked~div.sk-toggleable__content {max-height: 200px;max-width: 100%;overflow: auto;}#sk-container-id-3 input.sk-toggleable__control:checked~label.sk-toggleable__label-arrow:before {content: \"▾\";}#sk-container-id-3 div.sk-estimator input.sk-toggleable__control:checked~label.sk-toggleable__label {background-color: #d4ebff;}#sk-container-id-3 div.sk-label input.sk-toggleable__control:checked~label.sk-toggleable__label {background-color: #d4ebff;}#sk-container-id-3 input.sk-hidden--visually {border: 0;clip: rect(1px 1px 1px 1px);clip: rect(1px, 1px, 1px, 1px);height: 1px;margin: -1px;overflow: hidden;padding: 0;position: absolute;width: 1px;}#sk-container-id-3 div.sk-estimator {font-family: monospace;background-color: #f0f8ff;border: 1px dotted black;border-radius: 0.25em;box-sizing: border-box;margin-bottom: 0.5em;}#sk-container-id-3 div.sk-estimator:hover {background-color: #d4ebff;}#sk-container-id-3 div.sk-parallel-item::after {content: \"\";width: 100%;border-bottom: 1px solid gray;flex-grow: 1;}#sk-container-id-3 div.sk-label:hover label.sk-toggleable__label {background-color: #d4ebff;}#sk-container-id-3 div.sk-serial::before {content: \"\";position: absolute;border-left: 1px solid gray;box-sizing: border-box;top: 0;bottom: 0;left: 50%;z-index: 0;}#sk-container-id-3 div.sk-serial {display: flex;flex-direction: column;align-items: center;background-color: white;padding-right: 0.2em;padding-left: 0.2em;position: relative;}#sk-container-id-3 div.sk-item {position: relative;z-index: 1;}#sk-container-id-3 div.sk-parallel {display: flex;align-items: stretch;justify-content: center;background-color: white;position: relative;}#sk-container-id-3 div.sk-item::before, #sk-container-id-3 div.sk-parallel-item::before {content: \"\";position: absolute;border-left: 1px solid gray;box-sizing: border-box;top: 0;bottom: 0;left: 50%;z-index: -1;}#sk-container-id-3 div.sk-parallel-item {display: flex;flex-direction: column;z-index: 1;position: relative;background-color: white;}#sk-container-id-3 div.sk-parallel-item:first-child::after {align-self: flex-end;width: 50%;}#sk-container-id-3 div.sk-parallel-item:last-child::after {align-self: flex-start;width: 50%;}#sk-container-id-3 div.sk-parallel-item:only-child::after {width: 0;}#sk-container-id-3 div.sk-dashed-wrapped {border: 1px dashed gray;margin: 0 0.4em 0.5em 0.4em;box-sizing: border-box;padding-bottom: 0.4em;background-color: white;}#sk-container-id-3 div.sk-label label {font-family: monospace;font-weight: bold;display: inline-block;line-height: 1.2em;}#sk-container-id-3 div.sk-label-container {text-align: center;}#sk-container-id-3 div.sk-container {/* jupyter's `normalize.less` sets `[hidden] { display: none; }` but bootstrap.min.css set `[hidden] { display: none !important; }` so we also need the `!important` here to be able to override the default hidden behavior on the sphinx rendered scikit-learn.org. See: https://github.com/scikit-learn/scikit-learn/issues/21755 */display: inline-block !important;position: relative;}#sk-container-id-3 div.sk-text-repr-fallback {display: none;}</style><div id=\"sk-container-id-3\" class=\"sk-top-container\"><div class=\"sk-text-repr-fallback\"><pre>LinearRegression()</pre><b>In a Jupyter environment, please rerun this cell to show the HTML representation or trust the notebook. <br />On GitHub, the HTML representation is unable to render, please try loading this page with nbviewer.org.</b></div><div class=\"sk-container\" hidden><div class=\"sk-item\"><div class=\"sk-estimator sk-toggleable\"><input class=\"sk-toggleable__control sk-hidden--visually\" id=\"sk-estimator-id-3\" type=\"checkbox\" checked><label for=\"sk-estimator-id-3\" class=\"sk-toggleable__label sk-toggleable__label-arrow\">LinearRegression</label><div class=\"sk-toggleable__content\"><pre>LinearRegression()</pre></div></div></div></div></div>"
      ],
      "text/plain": [
       "LinearRegression()"
      ]
     },
     "execution_count": 50,
     "metadata": {},
     "output_type": "execute_result"
    }
   ],
   "source": [
    "time_model = LinearRegression()\n",
    "distance_model = LinearRegression()\n",
    "route_model = LinearRegression()\n",
    "\n",
    "time_model.fit(X_train, y_train_time)\n",
    "distance_model.fit(X_train, y_train_distance)\n",
    "route_model.fit(X_train, y_train_route)"
   ]
  },
  {
   "cell_type": "markdown",
   "id": "2a04273c-7af5-42d9-8af7-428c2d398ddf",
   "metadata": {},
   "source": [
    "##### Make predictions on the test set"
   ]
  },
  {
   "cell_type": "code",
   "execution_count": 51,
   "id": "91a89151-7625-49c6-9997-d1848a8ffceb",
   "metadata": {},
   "outputs": [],
   "source": [
    "time_predictions = time_model.predict(X_test)\n",
    "distance_predictions = distance_model.predict(X_test)\n",
    "route_predictions = route_model.predict(X_test)"
   ]
  },
  {
   "cell_type": "markdown",
   "id": "d0ff936b-d7f5-4816-b49f-f00f9a279e8e",
   "metadata": {},
   "source": [
    "##### Display the model performance"
   ]
  },
  {
   "cell_type": "code",
   "execution_count": 52,
   "id": "6146ec6c-fd05-4e0d-8534-dad4f21a192e",
   "metadata": {},
   "outputs": [
    {
     "name": "stdout",
     "output_type": "stream",
     "text": [
      "Time Model R-squared: 0.007041459219363166\n",
      "Distance Model R-squared: -0.00027737819892381665\n",
      "Route Model R-squared: 0.7476552542774048\n"
     ]
    }
   ],
   "source": [
    "time_r2 = time_model.score(X_test, y_test_time)\n",
    "distance_r2 = distance_model.score(X_test, y_test_distance)\n",
    "route_r2 = route_model.score(X_test, y_test_route)\n",
    "\n",
    "print(f\"Time Model R-squared: {time_r2}\")\n",
    "print(f\"Distance Model R-squared: {distance_r2}\")\n",
    "print(f\"Route Model R-squared: {route_r2}\")"
   ]
  },
  {
   "cell_type": "markdown",
   "id": "863cd3f7-07c6-41ca-9f26-0cb8bd1397a4",
   "metadata": {},
   "source": [
    "##### Using the trained models to make predictions for new data"
   ]
  },
  {
   "cell_type": "code",
   "execution_count": 70,
   "id": "8a56ba0c-a93c-4cdc-af7d-17347737ee4c",
   "metadata": {},
   "outputs": [
    {
     "name": "stdout",
     "output_type": "stream",
     "text": [
      "Predicted time : 34.43 minutes\n",
      "Predicted distance : 6.04 km\n",
      "Predicted Route : Use alternate route\n"
     ]
    }
   ],
   "source": [
    "new_data = pd.DataFrame({\n",
    "    'Traffic_Speed': [45],\n",
    "    'Traffic_Congestion': [0.6],\n",
    "})\n",
    "# import math\n",
    "\n",
    "time_prediction = time_model.predict(new_data)\n",
    "distance_prediction = distance_model.predict(new_data)\n",
    "route_prediction = route_model.predict(new_data)\n",
    "\n",
    "if route_prediction > 0.5:\n",
    "    route_prediction = 'Use alternate route'\n",
    "else:\n",
    "    route_prediction = 'No need for alternate route'\n",
    "\n",
    "print(f'Predicted time : {round(time_prediction[0], 2)} minutes\\nPredicted distance : {round(distance_prediction[0], 2)} km\\nPredicted Route : {route_prediction}')"
   ]
  }
 ],
 "metadata": {
  "kernelspec": {
   "display_name": "Python 3 (ipykernel)",
   "language": "python",
   "name": "python3"
  },
  "language_info": {
   "codemirror_mode": {
    "name": "ipython",
    "version": 3
   },
   "file_extension": ".py",
   "mimetype": "text/x-python",
   "name": "python",
   "nbconvert_exporter": "python",
   "pygments_lexer": "ipython3",
   "version": "3.10.6"
  }
 },
 "nbformat": 4,
 "nbformat_minor": 5
}
